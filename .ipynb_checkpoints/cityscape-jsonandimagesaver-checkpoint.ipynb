{
 "cells": [
  {
   "cell_type": "code",
   "execution_count": null,
   "metadata": {
    "collapsed": true
   },
   "outputs": [],
   "source": [
    "import os\n",
    "import sys\n",
    "import random\n",
    "import math\n",
    "import numpy as np\n",
    "import scipy.misc\n",
    "import matplotlib\n",
    "import matplotlib.pyplot as plt\n",
    "\n",
    "import coco\n",
    "import utils\n",
    "import model as modellib\n",
    "import visualize\n",
    "import PIL\n",
    "\n",
    "import json\n",
    "import collections\n",
    "import cv2\n",
    "\n",
    "from PIL import Image\n",
    "\n",
    "%matplotlib inline \n",
    "\n",
    "# Root directory of the project\n",
    "ROOT_DIR = os.getcwd()\n",
    "\n",
    "# Directory to save logs and trained model\n",
    "MODEL_DIR = os.path.join(ROOT_DIR, \"logs\")\n",
    "\n",
    "# Path to trained weights file\n",
    "# Download this file and place in the root of your \n",
    "# project (See README file for details)\n",
    "COCO_MODEL_PATH = os.path.join(ROOT_DIR, \"mask_rcnn_coco.h5\")\n",
    "\n",
    "# Directory of images to run detection on\n",
    "IMAGE_DIR = os.path.join(ROOT_DIR, \"images\")"
   ]
  },
  {
   "cell_type": "code",
   "execution_count": null,
   "metadata": {
    "collapsed": true
   },
   "outputs": [],
   "source": [
    "class InferenceConfig(coco.CocoConfig):\n",
    "    # Set batch size to 1 since we'll be running inference on\n",
    "    # one image at a time. Batch size = GPU_COUNT * IMAGES_PER_GPU\n",
    "    GPU_COUNT = 1\n",
    "    IMAGES_PER_GPU = 1\n",
    "\n",
    "config = InferenceConfig()\n",
    "# config.print()"
   ]
  },
  {
   "cell_type": "code",
   "execution_count": null,
   "metadata": {
    "collapsed": true
   },
   "outputs": [],
   "source": [
    "# Create model object in inference mode.\n",
    "model = modellib.MaskRCNN(mode=\"inference\", model_dir=MODEL_DIR, config=config)\n",
    "\n",
    "# Load weights trained on MS-COCO\n",
    "model.load_weights(COCO_MODEL_PATH, by_name=True)"
   ]
  },
  {
   "cell_type": "code",
   "execution_count": null,
   "metadata": {
    "collapsed": true
   },
   "outputs": [],
   "source": [
    "# COCO Class names\n",
    "# Index of the class in the list is its ID. For example, to get ID of\n",
    "# the teddy bear class, use: class_names.index('teddy bear')\n",
    "class_names = ['BG', 'person', 'bicycle', 'car', 'motorcycle', 'airplane',\n",
    "               'bus', 'train', 'truck', 'boat', 'traffic light',\n",
    "               'fire hydrant', 'stop sign', 'parking meter', 'bench', 'bird',\n",
    "               'cat', 'dog', 'horse', 'sheep', 'cow', 'elephant', 'bear',\n",
    "               'zebra', 'giraffe', 'backpack', 'umbrella', 'handbag', 'tie',\n",
    "               'suitcase', 'frisbee', 'skis', 'snowboard', 'sports ball',\n",
    "               'kite', 'baseball bat', 'baseball glove', 'skateboard',\n",
    "               'surfboard', 'tennis racket', 'bottle', 'wine glass', 'cup',\n",
    "               'fork', 'knife', 'spoon', 'bowl', 'banana', 'apple',\n",
    "               'sandwich', 'orange', 'broccoli', 'carrot', 'hot dog', 'pizza',\n",
    "               'donut', 'cake', 'chair', 'couch', 'potted plant', 'bed',\n",
    "               'dining table', 'toilet', 'tv', 'laptop', 'mouse', 'remote',\n",
    "               'keyboard', 'cell phone', 'microwave', 'oven', 'toaster',\n",
    "               'sink', 'refrigerator', 'book', 'clock', 'vase', 'scissors',\n",
    "               'teddy bear', 'hair drier', 'toothbrush']"
   ]
  },
  {
   "cell_type": "code",
   "execution_count": null,
   "metadata": {
    "collapsed": true
   },
   "outputs": [],
   "source": [
    "\n",
    "sys.path.append(os.path.join(ROOT_DIR, \"samples/coco/\"))  # To find local version\n",
    "import coco\n",
    "\n",
    "#get_ipython().magic('matplotlib inline')\n",
    "\n",
    "# Directory to save logs and trained model\n",
    "MODEL_DIR = os.path.join(ROOT_DIR, \"logs\")\n",
    "\n",
    "# Local path to trained weights file\n",
    "COCO_MODEL_PATH = os.path.join(ROOT_DIR, \"mask_rcnn_coco.h5\")\n",
    "# Download COCO trained weights from Releases if needed\n",
    "if not os.path.exists(COCO_MODEL_PATH):\n",
    "    utils.download_trained_weights(COCO_MODEL_PATH)\n",
    "\n",
    "\n",
    "# Directory of images to run detection on\n",
    "IMAGE_DIR = os.path.join(ROOT_DIR, \"shibuya/525/\")\n",
    "\n",
    "SAVE_DIR = os.path.join(ROOT_DIR, \"results/525/\")\n",
    "with open('525.json', 'a') as outfile:\n",
    "    for f in sorted(os.listdir(IMAGE_DIR)):\n",
    "        #print (f)\n",
    "        image = skimage.io.imread(os.path.join(IMAGE_DIR,f))\n",
    "        img = cv2.imread(os.path.join(IMAGE_DIR,f))\n",
    "        results = model.detect([image],verbose=1)\n",
    "        r = results[0]\n",
    "        visualize.save_image(image,%s,r['rois'], r['masks'], r['class_ids'], r['scores'],class_names %i)\n",
    "        for i in range(len(r['scores'])):\n",
    "            y2 = r['rois'][i][2]\n",
    "            y1 = r['rois'][i][0]\n",
    "            bboxwidth = y2-y1\n",
    "            x2 = r['rois'][i][3]\n",
    "            x1 = r['rois'][i][1]\n",
    "            bboxheight = x2-x1\n",
    "            bboxcenter = (bboxwidth/2)+(bboxheight/2)\n",
    "            dimensions = img.shape\n",
    "            height = img.shape[0]\n",
    "            width = img.shape[1]\n",
    "            objectData = {}\n",
    "            objectData['image_id'] = f\n",
    "            objectData['class_id'] = class_names[int(r['class_ids'][i])]\n",
    "            objectData['confidence'] = float(r['scores'][i])\n",
    "            objectData['x'] = ((int(x2)-int(x1))/2)+x1\n",
    "            objectData['y'] = ((int(y1)-int(y2))/2)+y1\n",
    "           \n",
    "            print(objectData)\n",
    "            json.dump(objectData,outfile)\n",
    "            outfile.write(\"\\n\")  \n",
    "            \n",
    "            # Add newline cause Py JSON does not\n",
    "            \n",
    "            \n",
    "#             plt.savefig(os.path.join(SAVE_DIR, f),bbox_inches='tight', pad_inches=-0.5,orientation= 'landscape')\n",
    "            #cv2.imwrite(os.path.join(SAVE_DIR, f), image)\n",
    "#         print(r['scores'])\n",
    "#         print(r['class_ids'])\n",
    "#         objectData = {}\n",
    "#         objectData['class_id'] = r['class_ids']\n",
    "#         objectData['confidence'] = r['scores']\n",
    "#         objectData['center'] = bboxcenter\n",
    "#         print(objectData)\n",
    "#         json.dump(objectData,outfile)\n",
    "        \n"
   ]
  }
 ],
 "metadata": {
  "anaconda-cloud": {},
  "kernelspec": {
   "display_name": "Python [conda env:shib34]",
   "language": "python",
   "name": "conda-env-shib34-py"
  },
  "language_info": {
   "codemirror_mode": {
    "name": "ipython",
    "version": 3
   },
   "file_extension": ".py",
   "mimetype": "text/x-python",
   "name": "python",
   "nbconvert_exporter": "python",
   "pygments_lexer": "ipython3",
   "version": "3.4.5"
  }
 },
 "nbformat": 4,
 "nbformat_minor": 2
}
