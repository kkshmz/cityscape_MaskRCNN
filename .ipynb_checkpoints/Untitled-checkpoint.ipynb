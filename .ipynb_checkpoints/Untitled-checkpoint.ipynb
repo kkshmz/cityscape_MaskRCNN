{
 "cells": [
  {
   "cell_type": "code",
   "execution_count": null,
   "metadata": {
    "collapsed": true
   },
   "outputs": [],
   "source": [
    "# coding: utf-8\n",
    "import os\n",
    "import sys\n",
    "import random\n",
    "import math\n",
    "import json\n",
    "import codecs\n",
    "import numpy\n",
    "\n",
    "ROOT_DIR = os.getcwd()\n",
    "\n",
    "f = open('/Users/kkshmzmbp/11-projects/1903-urbanorchestra/99-finaldata/json/edit-C0017.json')\n",
    "data = json.loads(f.read())\n",
    "f.close()\n",
    "\n",
    "for i in range(len(list(data))):\n",
    "    for j in list(data[i]):\n",
    "        if j == 'image':\n",
    "            image_id = \"5460\"\n",
    "            image_id++;\n",
    "with open('/Users/kkshmzmbp/11-projects/1903-urbanorchestra/99-finaldata/json/test-C0017.json', 'w') as outfile:\n",
    "    #json.dumps(data,outfile)\n",
    "     json.dump(data, outfile, indent=2, separators=(',', ': '), sort_keys=True)"
   ]
  }
 ],
 "metadata": {
  "anaconda-cloud": {},
  "kernelspec": {
   "display_name": "Python [conda env:shib34]",
   "language": "python",
   "name": "conda-env-shib34-py"
  },
  "language_info": {
   "codemirror_mode": {
    "name": "ipython",
    "version": 3
   },
   "file_extension": ".py",
   "mimetype": "text/x-python",
   "name": "python",
   "nbconvert_exporter": "python",
   "pygments_lexer": "ipython3",
   "version": "3.4.5"
  }
 },
 "nbformat": 4,
 "nbformat_minor": 2
}
